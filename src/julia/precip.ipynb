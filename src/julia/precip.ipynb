{
 "cells": [
  {
   "cell_type": "markdown",
   "id": "282ad405",
   "metadata": {},
   "source": [
    "# Assess distribution of precipitation to partition to cloud height categories"
   ]
  },
  {
   "cell_type": "code",
   "execution_count": 2,
   "id": "57aa0951",
   "metadata": {},
   "outputs": [
    {
     "name": "stderr",
     "output_type": "stream",
     "text": [
      "\u001b[32m\u001b[1m  Activating\u001b[22m\u001b[39m project at `~/Projects/ATOMIC/ATOMIC_GOES/julia/RHB/sonde`\n"
     ]
    }
   ],
   "source": [
    "# preamble\n",
    "\n",
    "# set up environments base -> ATOMIC_GOES\n",
    "# IJulia and Revise must be installed in the Julia base @version package environment.\n",
    "# Sometimes perhaps an vscode extension\n",
    "using Revise # does using Revise first allow for revising code in ATOMIC_GOES???\n",
    "using Pkg\n",
    "# Pkg.activate(joinpath(homedir(), \"Projects/ATOMIC/ATOMIC_GOES/julia/ATOMIC_GOES\"))\n",
    "Pkg.activate(\".\")\n",
    "\n",
    "# using ATOMIC_GOES\n",
    "# using ATOMIC_GOES.DataIO\n",
    "\n",
    "using Printf\n",
    "# using FileIO\n",
    "using Dates\n",
    "using NCDatasets\n",
    "using JLD2\n",
    "\n",
    "# using StatsBase\n",
    "using ForwardDiff\n",
    "using Statistics\n",
    "using Interpolations\n",
    "# using DSP\n",
    "\n",
    "using PyPlot\n",
    "# using PyCall\n",
    "# using CSV"
   ]
  },
  {
   "cell_type": "code",
   "execution_count": 3,
   "id": "79e4e4c5",
   "metadata": {},
   "outputs": [
    {
     "data": {
      "text/plain": [
       "moving_average"
      ]
     },
     "metadata": {},
     "output_type": "display_data"
    }
   ],
   "source": [
    "# utility functions; extend matplotlib\n",
    "\n",
    "# use numpy masking for missing\n",
    "using PyCall\n",
    "using PyCall: PyObject\n",
    "\n",
    "# allow for plotting with missing values\n",
    "function PyObject(a::Array{Union{T,Missing},N}) where {T,N}\n",
    "    numpy_ma = PyCall.pyimport(\"numpy\").ma\n",
    "    pycall(numpy_ma.array, Any, coalesce.(a,zero(T)), mask=ismissing.(a))\n",
    "end\n",
    "\n",
    "\"plotf(f, x, args...)  function plot wrapper\"\n",
    "plotf(f, x, args...) = plot(f.(x), x, args...)\n",
    "\n",
    "\"midpoint averager\"\n",
    "mid(x) = 0.5*(x[1:end-1].+x[2:end]) # doesn't work for Int16\n",
    "\n",
    "\"missing to zero\"\n",
    "# m2z(x) = ismissing(x) ? 0 : x\n",
    "m2z(x) = replace(x, missing=>0)\n",
    "\n",
    "# statistics fcns\n",
    "\"anomaly\"\n",
    "anom(r, kwargs...) = r .- mean(r, kwargs...)\n",
    "\n",
    "\"runningmean(x, n=7, f=isfinite) n-point running mean points satisfying f(x)==true\"\n",
    "function runningmean(x, n=7, f=isfinite)\n",
    "    notf2zero(x) = f(x) ? x : 0\n",
    "    cs = cumsum(notf2zero.(x))\n",
    "    ct = cumsum(f.(x))\n",
    "    (cs[n+1:end] .- cs[1:end-n]) ./ (ct[n+1:end] .- ct[1:end-n])\n",
    "end\n",
    "\n",
    "recurse(f, x, n) = n>0 ? f(recurse(f, x, n-1)) : x\n",
    "\"abstractly composes f n times; recursef(f,3) = f∘f∘f = x->f(f(f(x))), without evaluating\"\n",
    "recursef(f,n) = reduce(∘, ntuple(_ -> f, n)) \n",
    "\n",
    "\"declare arrays with elements of Union{Missing,T} unions\"\n",
    "similarmissing(s::Tuple, T::Type=Float64) = Array{Union{Missing, T}}(missing, s)\n",
    "similarmissing(A::Array) = similarmissing(size(A), eltype(A))\n",
    "\n",
    "\"moving_average(A, m) m-point moving average of A\"\n",
    "function moving_average(A::AbstractArray, m::Int, cond=x->true)\n",
    "    out = similar(A)\n",
    "    R = CartesianIndices(A)\n",
    "    Ifirst, Ilast = first(R), last(R)\n",
    "    I1 = m÷2 * oneunit(Ifirst)\n",
    "    for I in R\n",
    "        n, s = 0, zero(eltype(out))\n",
    "        for J in max(Ifirst, I-I1):min(Ilast, I+I1)\n",
    "            if cond(A[J]) # add condition, e.g. isfinite\n",
    "                s += A[J]\n",
    "                n += 1\n",
    "            end\n",
    "        end\n",
    "        out[I] = s/n\n",
    "    end\n",
    "    return out\n",
    "end"
   ]
  },
  {
   "cell_type": "code",
   "execution_count": 4,
   "id": "dc4513cc",
   "metadata": {},
   "outputs": [
    {
     "name": "stderr",
     "output_type": "stream",
     "text": [
      "┌ Warning: Replacing docs for `Main.VaporSat.es :: Union{Tuple{Any}, Tuple{Any, Any}}` in module `Main.VaporSat`\n",
      "└ @ Base.Docs docs/Docs.jl:243\n"
     ]
    },
    {
     "data": {
      "text/plain": [
       "Main.VaporSat"
      ]
     },
     "metadata": {},
     "output_type": "display_data"
    }
   ],
   "source": [
    "module VaporSat\n",
    "\n",
    "using ForwardDiff\n",
    "\n",
    "export qsat, dqsdT, dlnqsdT\n",
    "export Twet_autodiff\n",
    "\n",
    "# constants\n",
    "Cp = 1005.7  # from my Davies-Jones function, was 1005.\n",
    "Cpv = 1870.0 # J/kg/K\n",
    "Cw  = 4190.0\n",
    "L0 = 2.501e6 # J/kg\n",
    "\n",
    "C = 273.15 # K\n",
    "Rd = 287.04\n",
    "Rv = 461.5\n",
    "RdoRv=Rd/Rv\n",
    "\n",
    "\"latent heat of water vapor\"\n",
    "LvK(TempK) = L0 + (Cpv-Cw) * (TempK-273.0)\n",
    "\n",
    "# functions\n",
    "\"\"\"\n",
    "es(T,p) = is saturation vapor pressure based on Wexler's formula,\n",
    "with enhancement factor for moist air rather than water vapor.\n",
    "The enhancement factor requires a pressure.\n",
    "T [degrees C], p [Pa] (note the reversed input order), es [Pa]\n",
    "Calling with optional keywords changes the units and\n",
    "ignores the positional arguments.\n",
    "es(T,p; TK=tk[Kelvin], P=pr[hPa])\n",
    "From A. L. Buck 1981: JAM, 20, 1527-1532.\n",
    "SPdeS 7 July 2004\n",
    "\"\"\"\n",
    "function es(T,p=1e5; P=p*1e-2)\n",
    "    esat = 1e2 * 6.1121*(1.0007 + 3.46e-8*P)*exp((17.502*T)/(240.97 + T)) # convert es to Pa\n",
    "end\n",
    "\n",
    "\"T [C]; supplying TK [Kelvin] by keyword ignores positional T\"\n",
    "function es(T,p=1e5; TK=T+C, P=p*1e-2)\n",
    "    T = TK - C\n",
    "    esat = 1e2 * 6.1121*(1.0007 + 3.46e-8*P)*exp((17.502*T)/(240.97 + T)) # converts es to Pa\n",
    "end\n",
    "\n",
    "\"\"\"\n",
    "qsat(p,T) is saturation specific humidity based on Wexler's formula for es\n",
    "with enhancement factor (see es.m).\n",
    "p [Pa], T [degrees C], qsat [kg/kg]\n",
    "From A. L. Buck 1981: JAM, 20, 1527-1532.\n",
    "SPdeS 7 July 2004\n",
    "\"\"\"\n",
    "qsat(p,T) = RdoRv*es(T,p) / (p + (RdoRv-1)*es(T,p))\n",
    "\n",
    "\"dqsdT(p,T[C]) derivative of qsat with respect to T at p,T by autodiff of Bolton's qsat\"\n",
    "dqsdT(p,T) = ForwardDiff.derivative(t -> qsat(p,t), T)\n",
    "dlnqsdT(p,T) = ForwardDiff.derivative(t -> log(qsat(p,t)), T)\n",
    "\n",
    "# wet bulb temperature methods\n",
    "# for approximating the evap process\n",
    "\n",
    "\"General single Newton iteration to update x toward f(x) = fhat for a univariate function f\"\n",
    "updatex(f, x, fhat) = x + (fhat-f(x)) / ForwardDiff.derivative(f, x)\n",
    "\n",
    "\"\"\"\n",
    "Twet_autodiff(T[K], q[kg/kg], p[Pa]; niter=2) wet bulb temperature using Newton's method\n",
    "for target specific humidity q[kg/kg]. Uses automatic differntiation.\n",
    "\"\"\"\n",
    "function Twet_autodiff(T, q, p; niter=2)\n",
    "    f(t) = (t - T) + LvK((T+t)/2)/Cp * (qs(p,t-C) - q)\n",
    "    t=T\n",
    "    for i in 1:niter\n",
    "        t = updatex(f, t, 0)\n",
    "    end\n",
    "    t\n",
    "end\n",
    "# 2 iterations converges to ~0.001 K\n",
    "\n",
    "# call as...\n",
    "# q = rh*qsat(pa, Ta)\n",
    "# Twet_autodiff(Ta, rh*qsat(pa, Ta-C), pa) \n",
    "\n",
    "end # module VaporSat"
   ]
  },
  {
   "cell_type": "code",
   "execution_count": 5,
   "id": "540fe5e3",
   "metadata": {},
   "outputs": [
    {
     "data": {
      "text/plain": [
       "dqsatdz_moistad"
      ]
     },
     "metadata": {},
     "output_type": "display_data"
    }
   ],
   "source": [
    "# functions for thermodynamics\n",
    "\n",
    "using .VaporSat\n",
    "# exports dqsdT\n",
    "# overloads some methods in VaporSat\n",
    "\n",
    "# constants\n",
    "Rd=287.04 # J/K/kg Bolton\n",
    "Cp=1005.7 # J/K/kg Bolton\n",
    "Rv=461.5 # Bolton\n",
    "# specific heats of vapor and liquid\n",
    "Cpv=1870 # Bolton\n",
    "Cw=4190  # Bolton\n",
    "gravity=9.8 #\n",
    "KelvinCelsius=273.15 # K\n",
    "\n",
    "\n",
    "# Lv(T) = 2.501e6 + (Cpv-Cw) * T # Celsius\n",
    "\"Lv(T) [J/kg] Latent heat of vaporization of water as a function of temperature [K].\"\n",
    "Lv(T) = 2.501e6 + (Cpv-Cw) * (T-KelvinCelsius)\n",
    "\n",
    "\"\"\"\n",
    "qv(p/ev) = Rd / (Rv * (p/ev + (Cp/Rv-1)))\n",
    "specific humidity [kg/kg]\n",
    "\"\"\"\n",
    "qv(poev) = Rd / (Rv * (poev + (Cp/Rv-1.)))\n",
    "qv(p,ev) = qv(p/ev)\n",
    "\n",
    "\"vapor pressure in units of p, qv unitless\"\n",
    "ev(p, qv) = p*qv / (Rd/Rv + qv)\n",
    "\n",
    "\"\"\"\n",
    "esat(T,p) [hPa] computes saturation vapor pressure based on Wexler's formula,\n",
    "with enhancement factor for moist air rather than water vapor.\n",
    "The enhancement factor requires a pressure.\n",
    "T [degrees C], p [hPa] (note the reversed input order), es [hPa]\n",
    "From A. L. Buck 1981: JAM, 20, 1527-1532.\n",
    "SPdeS 7 July 2004\n",
    "\"\"\"\n",
    "esat(T, p) = 6.1121*(1.0007 + 3.46e-8*p)*exp((17.502*T)/(240.97 + T))\n",
    "#              hPa\n",
    "\n",
    "# use method from VaporSat qsat(p[Pa], T[C])\n",
    "# note order of arguments and units\n",
    "# \"qsat(T[C], p[hPa])\"\n",
    "# qsat(T, p) = qv(p/esat(T, p))\n",
    "\n",
    "\"specific humidity q [unitless] from mixing ratio w [unitless]\"\n",
    "q_from_w(w) = w/(1+w)\n",
    "\n",
    "\"\"\"\n",
    "Tlcl(T[K], ev[Pa])\n",
    "Temperature at the LCL [K]. From Bolton, 1980, MWR, 108, 1046-1053.\n",
    "\"\"\"\n",
    "Tlcl(T, ev) = 2840. / (3.5*log(T) - log( 0.01*ev ) - 4.805) + 55.\n",
    "\n",
    "# adiabatic lapse rate\n",
    "lapse_ad = gravity/Cp\n",
    "\n",
    "\"moist adiabatic lapse rate p[Pa], T[K]\"\n",
    "lapse_moist(T,p) = lapse_ad * (1 + Lv(T)*qsat(p,T-KelvinCelsius)/(Rd*T)) / (1 + Lv(T)^2*Rd/Rv*qsat(p,T-KelvinCelsius)/(Rd*Cp*T*T))\n",
    "# lapse_moist(T,p) = lapse_ad * (1 + Lv(T)*qsat(T-273.0,p)/(Rd*T)) / (1 + Lv(T)^2*Rd/Rv*qsat(T-273.0,p)/(Rd*Cp*T*T))\n",
    "\n",
    "\"parcel process adiabatic change in saturation vapor pressure, p[Pa], T[K]\"\n",
    "dqsatdz_moistad(p,T) = dqsdT(p,T-KelvinCelsius) * -lapse_moist(T,p) # negative\n",
    "# Small inconsistencies between dqsdT (Bolton) \n",
    "# and lapse_moist (Rogers and Yau) methods\n",
    "# are OK here."
   ]
  },
  {
   "cell_type": "code",
   "execution_count": null,
   "id": "387ed203",
   "metadata": {},
   "outputs": [
    {
     "data": {
      "text/plain": [
       "(true, true, true, true, true)"
      ]
     },
     "metadata": {},
     "output_type": "display_data"
    }
   ],
   "source": [
    "# data functions\n",
    "\n",
    "# data wrangling functions\n",
    "n2m(x) = isnan(x) ? missing : x\n",
    "skipnan(x) = skipmissing(n2m.(x))\n",
    "\n",
    "\"Divide the range m:n into N bins (subranges), return arrays of first and last indices of bins.\"\n",
    "function bins_inds(m::Integer, n::Integer, N)\n",
    "    # emulate pythonic slice indexing to do the rounding consistently\n",
    "    st = (n-m + 1) / N # step\n",
    "    # round all p-slices correctly\n",
    "    fst_p = floor.(Integer, m-1 : st : n-1)\n",
    "    fst = fst_p .+ 1 # collect(fst_p .+ 1)\n",
    "    lst = vcat(fst[2:end].-1, n)\n",
    "    fst, lst\n",
    "end\n",
    "\n",
    "# test bins_inds\n",
    "let m=1000, n=2000, N=12\n",
    "    fst, lst = bins_inds(m, n, N)\n",
    "\n",
    "    # bin sizes\n",
    "    db = lst .- fst\n",
    "\n",
    "    # all tests should return true\n",
    "    (\n",
    "        length(fst) == length(lst) == N,           # there are N bins\n",
    "        fst[1] == m,                               # bins span the original indices\n",
    "        lst[end] == n,\n",
    "        all( lst[1:end-1] .== (fst[2:end] .- 1) ), # bins are contiguous \n",
    "        maximum(db) - minimum(db) <= 1             # bins are nearly the same size\n",
    "    )\n",
    "end"
   ]
  },
  {
   "cell_type": "code",
   "execution_count": null,
   "id": "173f1b79",
   "metadata": {},
   "outputs": [
    {
     "data": {
      "text/plain": [
       "1.6666666666666667e-6"
      ]
     },
     "metadata": {},
     "output_type": "display_data"
    }
   ],
   "source": [
    "# load data\n",
    "\n",
    "# PSL flux data file\n",
    "datapath = \"./data\" # -> /home/deszoeks/Data/ATOMIC/flux\n",
    "psl = NCDataset(joinpath(datapath, \"EUREC4A_ATOMIC_RonBrown_10min_nav_met_sea_flux_20200109-20200212_v1.3.nc\"))\n",
    "\n",
    "pmean = mean(skipmissing(psl[\"psealevel\"][:]))\n",
    "Tairsfcmean = mean(skipmissing(psl[\"tair\"][:]))\n",
    "\n",
    "rho = (1e2*pmean)/(Rd*(Tairsfcmean+273.15))\n",
    "Lv(Tairsfcmean+273.15)\n",
    "rhoL = rho * Lv(Tairsfcmean+273.15)\n",
    "# E0 = -mean(skipmissing(psl[\"hl_bulk\"][:])) # 180 W/m^2\n",
    "\n",
    "# mean(skipmissing(psl[\"prate\"][:])) # 0.032 mm/h\n",
    "P0 = rhoL * mean(skipmissing(psl[\"prate\"][:])) / 3600 # 0.032 mm/h -> 25.7 W/m^2"
   ]
  },
  {
   "cell_type": "code",
   "execution_count": 137,
   "id": "dbaeaf32",
   "metadata": {},
   "outputs": [
    {
     "name": "stderr",
     "output_type": "stream",
     "text": [
      "┌ Warning: cannot parse time units `seconds since 2020-01-01 00:00:00UTC`: ArgumentError: invalid base 10 digit 'U' in \"00U\"\n",
      "└ @ CommonDataModel /home/deszoeks/.julia/packages/CommonDataModel/HZ4nE/src/cfvariable.jl:144\n"
     ]
    },
    {
     "data": {
      "image/png": "[encoded data removed]",
      "text/plain": [
       "Figure(PyObject <Figure size 640x480 with 1 Axes>)"
      ]
     },
     "metadata": {},
     "output_type": "display_data"
    }
   ],
   "source": [
    "psldt = @. DateTime(\"2020-01-01T00:00:00\") + Second(round(Int64,psl[\"time\"][:]))\n",
    "prate = psl[\"prate\"][:] # mm/h\n",
    "\n",
    "clf()\n",
    "subplot(2,1,1)\n",
    "plot(psldt, prate, linestyle=\"none\", marker=\".\")\n",
    "ylabel(\"precip (mm/h)\")\n",
    "gcf()"
   ]
  },
  {
   "cell_type": "code",
   "execution_count": null,
   "id": "48dbe283",
   "metadata": {},
   "outputs": [
    {
     "data": {
      "text/plain": [
       "148.80302643357368"
      ]
     },
     "metadata": {},
     "output_type": "display_data"
    }
   ],
   "source": [
    "n = length(prate)\n",
    "s = sort(prate)\n",
    "m = findfirst(s.>0)\n",
    "cumarea = (1:n)/n\n",
    "cumareaRain0 = m/n # cumulative area of first nonzero rain 0.96\n",
    "m/n, s[m], (1-m/n)/0.2\n",
    "\n",
    "# find power law of precipitation vs area. Doesn't fit well bc the peak precip climbs faster than a power law.\n",
    "diff(log.(s[[m; end]]))[1] / diff(log.([m/n; 1]))[1]\n",
    "pwr = log(s[end]/s[m]) / log(n/m)"
   ]
  },
  {
   "cell_type": "code",
   "execution_count": 155,
   "id": "cb2177b4",
   "metadata": {},
   "outputs": [
    {
     "data": {
      "text/plain": [
       "0.030222857"
      ]
     },
     "metadata": {},
     "output_type": "display_data"
    }
   ],
   "source": [
    "# minimum rain rate sensitivity of 1-s samples is 0.001 mm/h, according to ORG2 documentation\n",
    "# 0.001 / 600 = 1.67e-6 for a 10-minute average\n",
    "s[m] \n",
    "# s[m] = 0.03 mm/h is well above the sample sensitivity floor of 0.001 mm/h."
   ]
  },
  {
   "cell_type": "markdown",
   "id": "e2c19156",
   "metadata": {},
   "source": [
    "Only the top 4% of times have any precipitation at all. If cloud fraction is 20%, then 20% of those clouds are measurably precipitating."
   ]
  },
  {
   "cell_type": "markdown",
   "id": "87490e79",
   "metadata": {},
   "source": [
    "$$\n",
    "P(a) = P_{max} a^p \\\\\n",
    "p = \\log(P_{max}/P(aR0)) / \\log(1/aR0)\n",
    "$$"
   ]
  },
  {
   "cell_type": "code",
   "execution_count": 138,
   "id": "72e66822",
   "metadata": {},
   "outputs": [
    {
     "data": {
      "image/png": "[encoded data removed]",
      "text/plain": [
       "Figure(PyObject <Figure size 640x480 with 2 Axes>)"
      ]
     },
     "metadata": {},
     "output_type": "display_data"
    }
   ],
   "source": [
    "# plot precip and power law fits \n",
    "clf()\n",
    "subplot(2,1,1)\n",
    "plot((m:n)/n, s[m:end])\n",
    "# plot(cumarea[m:n], 0.2*s[n] .* cumarea[m:n].^(pwr)) # fits lower precip, but not top 0.5%\n",
    "plot(cumarea[m:n], 0.27*s[n] .* cumarea[m:n].^(1.2*pwr)) # fits but top 0.3%\n",
    "# plot(cumarea[m:n], 0.3*s[n] .* cumarea[m:n].^(1.3*pwr)) \n",
    "xlim([m/n, 1])\n",
    "ylim([0, s[end]])\n",
    "ylabel(\"precipitation (mm/h)\")\n",
    "xlabel(\"cumulative area\")\n",
    "\n",
    "subplot(2,1,2)\n",
    "plot(log.((m:n)/n), log.(s[m:end]))\n",
    "plot(log.([m/n, 1]), log.(s[[m, end]]))\n",
    "plot(log.([m/n, 1]), log.(s[[m, end]]).-1)\n",
    "# xlim([m/n, 1])\n",
    "# ylim([0, s[end]])\n",
    "gcf()"
   ]
  },
  {
   "cell_type": "code",
   "execution_count": 175,
   "id": "8a9bb037",
   "metadata": {},
   "outputs": [
    {
     "data": {
      "image/png": "[encoded data removed]",
      "text/plain": [
       "Figure(PyObject <Figure size 640x480 with 1 Axes>)"
      ]
     },
     "metadata": {},
     "output_type": "display_data"
    }
   ],
   "source": [
    "# divide the preciptiating part into bins\n",
    "N = 28\n",
    "fst, lst = bins_inds(m,n, N)\n",
    "mb = [ mean(s[fst[i]:lst[i]]) for i in eachindex(fst) ] # mean precip in each bin\n",
    "\n",
    "clf()\n",
    "subplot(2,1,1)\n",
    "plot((m:n)/n, s[m:end], linewidth=0.5)\n",
    "plot(cumarea[[fst; lst[end]]], [mb; mb[end]], drawstyle=\"steps-post\", linewidth=0.5)\n",
    "xlim([m/n, 1])\n",
    "ylabel(\"precip (mm/h)\")\n",
    "xlabel(\"cumulative area fraction\")\n",
    "gcf()"
   ]
  }
 ],
 "metadata": {
  "kernelspec": {
   "display_name": "Julia 1.11.6",
   "language": "julia",
   "name": "julia-1.11"
  },
  "language_info": {
   "file_extension": ".jl",
   "mimetype": "application/julia",
   "name": "julia",
   "version": "1.11.6"
  }
 },
 "nbformat": 4,
 "nbformat_minor": 5
}
